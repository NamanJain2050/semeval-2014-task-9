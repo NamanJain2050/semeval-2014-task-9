{
 "cells": [
  {
   "cell_type": "code",
   "execution_count": 99,
   "metadata": {
    "ExecuteTime": {
     "end_time": "2020-03-30T16:53:15.161459Z",
     "start_time": "2020-03-30T16:53:15.157026Z"
    }
   },
   "outputs": [],
   "source": [
    "import pandas as pd\n",
    "import seaborn as sns\n",
    "import matplotlib.pyplot as plt\n",
    "import numpy as np\n",
    "\n",
    "%matplotlib inline"
   ]
  },
  {
   "cell_type": "markdown",
   "metadata": {},
   "source": [
    "# Loading data\n",
    "\n",
    "We'll load our CSV created in prepare-data-csv.ipynb"
   ]
  },
  {
   "cell_type": "code",
   "execution_count": 101,
   "metadata": {
    "ExecuteTime": {
     "end_time": "2020-03-30T16:53:50.083190Z",
     "start_time": "2020-03-30T16:53:50.062130Z"
    }
   },
   "outputs": [],
   "source": [
    "data = pd.read_csv('data/raw/tweets.csv')"
   ]
  },
  {
   "cell_type": "code",
   "execution_count": 107,
   "metadata": {
    "ExecuteTime": {
     "end_time": "2020-03-30T16:55:09.859415Z",
     "start_time": "2020-03-30T16:55:09.855467Z"
    }
   },
   "outputs": [
    {
     "data": {
      "text/plain": [
       "(9684, 2)"
      ]
     },
     "execution_count": 107,
     "metadata": {},
     "output_type": "execute_result"
    }
   ],
   "source": [
    "data.shape"
   ]
  },
  {
   "cell_type": "code",
   "execution_count": 102,
   "metadata": {
    "ExecuteTime": {
     "end_time": "2020-03-30T16:53:50.526214Z",
     "start_time": "2020-03-30T16:53:50.516445Z"
    }
   },
   "outputs": [
    {
     "data": {
      "text/html": [
       "<div>\n",
       "<style scoped>\n",
       "    .dataframe tbody tr th:only-of-type {\n",
       "        vertical-align: middle;\n",
       "    }\n",
       "\n",
       "    .dataframe tbody tr th {\n",
       "        vertical-align: top;\n",
       "    }\n",
       "\n",
       "    .dataframe thead th {\n",
       "        text-align: right;\n",
       "    }\n",
       "</style>\n",
       "<table border=\"1\" class=\"dataframe\">\n",
       "  <thead>\n",
       "    <tr style=\"text-align: right;\">\n",
       "      <th></th>\n",
       "      <th>tweets</th>\n",
       "      <th>labels</th>\n",
       "    </tr>\n",
       "  </thead>\n",
       "  <tbody>\n",
       "    <tr>\n",
       "      <th>0</th>\n",
       "      <td>Gas by my house hit $3.39!!!! I\\u2019m going t...</td>\n",
       "      <td>positive</td>\n",
       "    </tr>\n",
       "    <tr>\n",
       "      <th>1</th>\n",
       "      <td>Theo Walcott is still shit\\u002c watch Rafa an...</td>\n",
       "      <td>negative</td>\n",
       "    </tr>\n",
       "    <tr>\n",
       "      <th>2</th>\n",
       "      <td>its not that I\\u2019m a GSP fan\\u002c i just h...</td>\n",
       "      <td>negative</td>\n",
       "    </tr>\n",
       "    <tr>\n",
       "      <th>3</th>\n",
       "      <td>Iranian general says Israel\\u2019s Iron Dome c...</td>\n",
       "      <td>negative</td>\n",
       "    </tr>\n",
       "    <tr>\n",
       "      <th>4</th>\n",
       "      <td>Tehran\\u002c Mon Amour: Obama Tried to Establi...</td>\n",
       "      <td>neutral</td>\n",
       "    </tr>\n",
       "  </tbody>\n",
       "</table>\n",
       "</div>"
      ],
      "text/plain": [
       "                                              tweets    labels\n",
       "0  Gas by my house hit $3.39!!!! I\\u2019m going t...  positive\n",
       "1  Theo Walcott is still shit\\u002c watch Rafa an...  negative\n",
       "2  its not that I\\u2019m a GSP fan\\u002c i just h...  negative\n",
       "3  Iranian general says Israel\\u2019s Iron Dome c...  negative\n",
       "4  Tehran\\u002c Mon Amour: Obama Tried to Establi...   neutral"
      ]
     },
     "execution_count": 102,
     "metadata": {},
     "output_type": "execute_result"
    }
   ],
   "source": [
    "data.head()"
   ]
  },
  {
   "cell_type": "markdown",
   "metadata": {},
   "source": [
    "# Data Cleaning\n",
    "\n",
    "We'll download the following dictionary to remove emojis <br>\n",
    "https://github.com/NeelShah18/emot/blob/master/emot/emo_unicode.py"
   ]
  },
  {
   "cell_type": "code",
   "execution_count": 104,
   "metadata": {
    "ExecuteTime": {
     "end_time": "2020-03-30T16:54:59.209692Z",
     "start_time": "2020-03-30T16:54:59.207027Z"
    }
   },
   "outputs": [],
   "source": [
    "from emo_unicode import EMOTICONS"
   ]
  },
  {
   "cell_type": "code",
   "execution_count": 105,
   "metadata": {
    "ExecuteTime": {
     "end_time": "2020-03-30T16:54:59.411175Z",
     "start_time": "2020-03-30T16:54:59.399595Z"
    }
   },
   "outputs": [],
   "source": [
    "def removeLinks(text):\n",
    "    text = re.sub(r'http\\S+', '', text, flags=re.MULTILINE)\n",
    "    return text\n",
    "\n",
    "def removeHTMLTags(text):\n",
    "    text = re.sub(r'<.*?>', '', text, flags=re.MULTILINE)\n",
    "    return text\n",
    "\n",
    "def convertToLowerCase(text):\n",
    "    return text.lower()\n",
    "\n",
    "def removeWordsWithNumbers(text):\n",
    "    return re.sub(r'\\S*\\d\\S*', '', text).strip()\n",
    "\n",
    "def removePuctuations(text):\n",
    "    return re.sub(r'[^A-Za-z0-9]+', ' ', text)\n",
    "\n",
    "def removeWhiteSpaces(text):\n",
    "    return text.strip()\n",
    "\n",
    "def decontracted(phrase):\n",
    "    \n",
    "    # specific\n",
    "    phrase = re.sub(r\"won\\'t\", \"will not\", phrase)\n",
    "    phrase = re.sub(r\"can\\'t\", \"can not\", phrase)\n",
    "\n",
    "    # general\n",
    "    phrase = re.sub(r\"n\\'t\", \" not\", phrase)\n",
    "    phrase = re.sub(r\"\\'re\", \" are\", phrase)\n",
    "    phrase = re.sub(r\"\\'s\", \" is\", phrase)\n",
    "    phrase = re.sub(r\"\\'d\", \" would\", phrase)\n",
    "    phrase = re.sub(r\"\\'ll\", \" will\", phrase)\n",
    "    phrase = re.sub(r\"\\'t\", \" not\", phrase)\n",
    "    phrase = re.sub(r\"\\'ve\", \" have\", phrase)\n",
    "    phrase = re.sub(r\"\\'m\", \" am\", phrase)\n",
    "    return phrase\n",
    "\n",
    "\n",
    "def remove_emoji(string):\n",
    "    emoji_pattern = re.compile(\"[\"\n",
    "                           u\"\\U0001F600-\\U0001F64F\"  # emoticons\n",
    "                           u\"\\U0001F300-\\U0001F5FF\"  # symbols & pictographs\n",
    "                           u\"\\U0001F680-\\U0001F6FF\"  # transport & map symbols\n",
    "                           u\"\\U0001F1E0-\\U0001F1FF\"  # flags (iOS)\n",
    "                           u\"\\U00002702-\\U000027B0\"\n",
    "                           u\"\\U000024C2-\\U0001F251\"\n",
    "                           \"]+\", flags=re.UNICODE)\n",
    "    return emoji_pattern.sub(r'', string)\n",
    "\n",
    "def remove_emoticons(text):\n",
    "    emoticon_pattern = re.compile(u'(' + u'|'.join(k for k in EMOTICONS) + u')')\n",
    "    return emoticon_pattern.sub(r'', text)"
   ]
  },
  {
   "cell_type": "code",
   "execution_count": 106,
   "metadata": {
    "ExecuteTime": {
     "end_time": "2020-03-30T16:54:59.835311Z",
     "start_time": "2020-03-30T16:54:59.830499Z"
    }
   },
   "outputs": [],
   "source": [
    "def clean_data(text):\n",
    "    \n",
    "    text = str(text)\n",
    "    text = removeLinks(text)\n",
    "    text = removeHTMLTags(text)\n",
    "    text = convertToLowerCase(text)\n",
    "    text = removeWordsWithNumbers(text)\n",
    "    text = removeWhiteSpaces(text)\n",
    "    text = decontracted(text)\n",
    "    text = removePuctuations(text)\n",
    "    text = remove_emoji(text)\n",
    "    text = remove_emoticons(text)\n",
    "    text = text.strip()\n",
    "    \n",
    "    return text"
   ]
  },
  {
   "cell_type": "code",
   "execution_count": 108,
   "metadata": {
    "ExecuteTime": {
     "end_time": "2020-03-30T16:55:16.097955Z",
     "start_time": "2020-03-30T16:55:16.089918Z"
    }
   },
   "outputs": [
    {
     "data": {
      "text/plain": [
       "(9684, 2)"
      ]
     },
     "execution_count": 108,
     "metadata": {},
     "output_type": "execute_result"
    }
   ],
   "source": [
    "cleaned_data = data.dropna(how='any', axis=0)\n",
    "cleaned_data.shape"
   ]
  },
  {
   "cell_type": "code",
   "execution_count": 109,
   "metadata": {
    "ExecuteTime": {
     "end_time": "2020-03-30T16:55:18.277470Z",
     "start_time": "2020-03-30T16:55:17.210288Z"
    }
   },
   "outputs": [],
   "source": [
    "cleaned_data['tweets'] = cleaned_data['tweets'].apply(clean_data)"
   ]
  },
  {
   "cell_type": "code",
   "execution_count": 110,
   "metadata": {
    "ExecuteTime": {
     "end_time": "2020-03-30T16:55:18.283408Z",
     "start_time": "2020-03-30T16:55:18.279173Z"
    }
   },
   "outputs": [
    {
     "data": {
      "text/plain": [
       "(9684, 2)"
      ]
     },
     "execution_count": 110,
     "metadata": {},
     "output_type": "execute_result"
    }
   ],
   "source": [
    "cleaned_data.shape"
   ]
  },
  {
   "cell_type": "code",
   "execution_count": 85,
   "metadata": {
    "ExecuteTime": {
     "end_time": "2020-03-30T16:37:47.009434Z",
     "start_time": "2020-03-30T16:37:47.005053Z"
    }
   },
   "outputs": [
    {
     "data": {
      "text/plain": [
       "'Gas by my house hit $3.39!!!! I\\\\u2019m going to Chapel Hill on Sat. :)'"
      ]
     },
     "execution_count": 85,
     "metadata": {},
     "output_type": "execute_result"
    }
   ],
   "source": [
    "data['tweets'].iloc[0]"
   ]
  },
  {
   "cell_type": "code",
   "execution_count": 86,
   "metadata": {
    "ExecuteTime": {
     "end_time": "2020-03-30T16:37:47.595957Z",
     "start_time": "2020-03-30T16:37:47.591627Z"
    }
   },
   "outputs": [
    {
     "data": {
      "text/plain": [
       "'gas by my house hit going to chapel hill on sat'"
      ]
     },
     "execution_count": 86,
     "metadata": {},
     "output_type": "execute_result"
    }
   ],
   "source": [
    "cleaned_data['tweets'].iloc[0]"
   ]
  },
  {
   "cell_type": "markdown",
   "metadata": {},
   "source": [
    "# EDA"
   ]
  },
  {
   "cell_type": "code",
   "execution_count": 87,
   "metadata": {
    "ExecuteTime": {
     "end_time": "2020-03-30T16:49:22.722955Z",
     "start_time": "2020-03-30T16:49:22.715926Z"
    }
   },
   "outputs": [
    {
     "data": {
      "text/plain": [
       "neutral     4586\n",
       "positive    3640\n",
       "negative    1458\n",
       "Name: labels, dtype: int64"
      ]
     },
     "execution_count": 87,
     "metadata": {},
     "output_type": "execute_result"
    }
   ],
   "source": [
    "cleaned_data['labels'].value_counts()"
   ]
  },
  {
   "cell_type": "code",
   "execution_count": 92,
   "metadata": {
    "ExecuteTime": {
     "end_time": "2020-03-30T16:50:19.286230Z",
     "start_time": "2020-03-30T16:50:19.120524Z"
    }
   },
   "outputs": [
    {
     "data": {
      "text/plain": [
       "<matplotlib.axes._subplots.AxesSubplot at 0x1366a5400>"
      ]
     },
     "execution_count": 92,
     "metadata": {},
     "output_type": "execute_result"
    },
    {
     "data": {
      "image/png": "[encoded data removed]",
      "text/plain": [
       "<Figure size 432x288 with 1 Axes>"
      ]
     },
     "metadata": {
      "needs_background": "light"
     },
     "output_type": "display_data"
    }
   ],
   "source": [
    "sns.countplot(x='labels', data=cleaned_data)"
   ]
  },
  {
   "cell_type": "code",
   "execution_count": 98,
   "metadata": {
    "ExecuteTime": {
     "end_time": "2020-03-30T16:52:37.999257Z",
     "start_time": "2020-03-30T16:52:37.703995Z"
    }
   },
   "outputs": [
    {
     "data": {
      "text/plain": [
       "<matplotlib.legend.Legend at 0x110741a20>"
      ]
     },
     "execution_count": 98,
     "metadata": {},
     "output_type": "execute_result"
    },
    {
     "data": {
      "image/png": "[encoded data removed]",
      "text/plain": [
       "<Figure size 432x288 with 1 Axes>"
      ]
     },
     "metadata": {
      "needs_background": "light"
     },
     "output_type": "display_data"
    }
   ],
   "source": [
    "cleaned_data.loc[cleaned_data['labels'] == 'positive', 'tweets'].str.len().hist(label='pos', alpha=.5)\n",
    "cleaned_data.loc[cleaned_data['labels'] == 'negative', 'tweets'].str.len().hist(label='neg', alpha=.5)\n",
    "cleaned_data.loc[cleaned_data['labels'] == 'neutral', 'tweets'].str.len().hist(label='nue', alpha=.5)\n",
    "plt.legend()"
   ]
  },
  {
   "cell_type": "markdown",
   "metadata": {},
   "source": [
    "Length is not a good differentiator"
   ]
  },
  {
   "cell_type": "code",
   "execution_count": 112,
   "metadata": {
    "ExecuteTime": {
     "end_time": "2020-03-30T16:56:59.458352Z",
     "start_time": "2020-03-30T16:56:59.417883Z"
    }
   },
   "outputs": [],
   "source": [
    "cleaned_data.to_csv('data/clean/cleaned_data.csv', index=None)"
   ]
  }
 ],
 "metadata": {
  "kernelspec": {
   "display_name": "Python 3",
   "language": "python",
   "name": "python3"
  },
  "language_info": {
   "codemirror_mode": {
    "name": "ipython",
    "version": 3
   },
   "file_extension": ".py",
   "mimetype": "text/x-python",
   "name": "python",
   "nbconvert_exporter": "python",
   "pygments_lexer": "ipython3",
   "version": "3.6.7"
  },
  "toc": {
   "base_numbering": 1,
   "nav_menu": {},
   "number_sections": true,
   "sideBar": true,
   "skip_h1_title": false,
   "title_cell": "Table of Contents",
   "title_sidebar": "Contents",
   "toc_cell": false,
   "toc_position": {},
   "toc_section_display": true,
   "toc_window_display": true
  }
 },
 "nbformat": 4,
 "nbformat_minor": 2
}
