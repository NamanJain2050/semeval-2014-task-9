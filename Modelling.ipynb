{
 "cells": [
  {
   "cell_type": "markdown",
   "metadata": {},
   "source": [
    "Useful links:\n",
    "<br>\n",
    "https://stackoverflow.com/questions/32011359/convert-categorical-data-in-pandas-dataframe/32011969\n",
    "<br>\n",
    "https://machinelearningmastery.com/use-word-embedding-layers-deep-learning-keras/\n",
    "<br>\n",
    "https://nlp.stanford.edu/projects/glove/"
   ]
  },
  {
   "cell_type": "code",
   "execution_count": 1,
   "metadata": {
    "ExecuteTime": {
     "end_time": "2020-03-31T08:04:43.215463Z",
     "start_time": "2020-03-31T08:04:37.835286Z"
    }
   },
   "outputs": [
    {
     "name": "stderr",
     "output_type": "stream",
     "text": [
      "Using TensorFlow backend.\n"
     ]
    }
   ],
   "source": [
    "import pandas as pd\n",
    "import numpy as np\n",
    "from numpy import asarray\n",
    "import seaborn as sns\n",
    "import matplotlib.pyplot as plt\n",
    "\n",
    "from sklearn.model_selection import train_test_split\n",
    "from sklearn.metrics import confusion_matrix\n",
    "\n",
    "import pydotplus as pyd\n",
    "\n",
    "import keras\n",
    "from tensorflow.keras.utils import plot_model\n",
    "from tensorflow.keras.preprocessing.text import Tokenizer\n",
    "from tensorflow.keras.preprocessing.sequence import pad_sequences\n",
    "from tensorflow.keras.utils import to_categorical\n",
    "from tensorflow.keras.models import Model\n",
    "from tensorflow.keras import backend as K\n",
    "from tensorflow.keras.callbacks import ModelCheckpoint, TensorBoard, EarlyStopping, ReduceLROnPlateau\n",
    "from tensorflow.keras import optimizers\n",
    "from tensorflow.keras.layers import Dense, Input, Flatten, Embedding, Conv1D, MaxPooling1D, Dropout, BatchNormalization, Activation, concatenate\n",
    "\n",
    "%matplotlib inline"
   ]
  },
  {
   "cell_type": "code",
   "execution_count": 2,
   "metadata": {
    "ExecuteTime": {
     "end_time": "2020-03-31T08:04:43.259373Z",
     "start_time": "2020-03-31T08:04:43.217342Z"
    }
   },
   "outputs": [
    {
     "data": {
      "text/html": [
       "<div>\n",
       "<style scoped>\n",
       "    .dataframe tbody tr th:only-of-type {\n",
       "        vertical-align: middle;\n",
       "    }\n",
       "\n",
       "    .dataframe tbody tr th {\n",
       "        vertical-align: top;\n",
       "    }\n",
       "\n",
       "    .dataframe thead th {\n",
       "        text-align: right;\n",
       "    }\n",
       "</style>\n",
       "<table border=\"1\" class=\"dataframe\">\n",
       "  <thead>\n",
       "    <tr style=\"text-align: right;\">\n",
       "      <th></th>\n",
       "      <th>tweets</th>\n",
       "      <th>labels</th>\n",
       "    </tr>\n",
       "  </thead>\n",
       "  <tbody>\n",
       "    <tr>\n",
       "      <th>0</th>\n",
       "      <td>gas by my house hit going to chapel hill on sat</td>\n",
       "      <td>1</td>\n",
       "    </tr>\n",
       "    <tr>\n",
       "      <th>1</th>\n",
       "      <td>theo walcott is still watch rafa and johnny de...</td>\n",
       "      <td>0</td>\n",
       "    </tr>\n",
       "    <tr>\n",
       "      <th>2</th>\n",
       "      <td>its not that a gsp i just hate nick diaz wait ...</td>\n",
       "      <td>0</td>\n",
       "    </tr>\n",
       "    <tr>\n",
       "      <th>3</th>\n",
       "      <td>iranian general says iron dome deal with their...</td>\n",
       "      <td>0</td>\n",
       "    </tr>\n",
       "    <tr>\n",
       "      <th>4</th>\n",
       "      <td>mon amour obama tried to establish ties with t...</td>\n",
       "      <td>2</td>\n",
       "    </tr>\n",
       "  </tbody>\n",
       "</table>\n",
       "</div>"
      ],
      "text/plain": [
       "                                              tweets  labels\n",
       "0    gas by my house hit going to chapel hill on sat       1\n",
       "1  theo walcott is still watch rafa and johnny de...       0\n",
       "2  its not that a gsp i just hate nick diaz wait ...       0\n",
       "3  iranian general says iron dome deal with their...       0\n",
       "4  mon amour obama tried to establish ties with t...       2"
      ]
     },
     "execution_count": 2,
     "metadata": {},
     "output_type": "execute_result"
    }
   ],
   "source": [
    "data = pd.read_csv('data/clean/cleaned_data.csv')\n",
    "data['labels'] = data['labels'].apply(lambda x: ['negative', 'positive', 'neutral'].index(x))\n",
    "data.head()"
   ]
  },
  {
   "cell_type": "code",
   "execution_count": 3,
   "metadata": {
    "ExecuteTime": {
     "end_time": "2020-03-31T08:04:43.266898Z",
     "start_time": "2020-03-31T08:04:43.261985Z"
    }
   },
   "outputs": [],
   "source": [
    "X_s = data['tweets'].values\n",
    "y_s = data['labels'].values\n",
    "\n",
    "X_train, X_test, y_train, y_test = train_test_split(X_s, y_s, test_size=0.2, random_state=42)"
   ]
  },
  {
   "cell_type": "code",
   "execution_count": 7,
   "metadata": {
    "ExecuteTime": {
     "end_time": "2020-03-31T08:06:16.625532Z",
     "start_time": "2020-03-31T08:06:16.620431Z"
    }
   },
   "outputs": [
    {
     "data": {
      "text/plain": [
       "{0: 1166, 1: 2919, 2: 3662}"
      ]
     },
     "execution_count": 7,
     "metadata": {},
     "output_type": "execute_result"
    }
   ],
   "source": [
    "unique, counts = np.unique(y_train, return_counts=True)\n",
    "dict(zip(unique, counts))"
   ]
  },
  {
   "cell_type": "code",
   "execution_count": 8,
   "metadata": {
    "ExecuteTime": {
     "end_time": "2020-03-31T08:07:06.399102Z",
     "start_time": "2020-03-31T08:07:06.394133Z"
    }
   },
   "outputs": [
    {
     "data": {
      "text/plain": [
       "{0: 292, 1: 721, 2: 924}"
      ]
     },
     "execution_count": 8,
     "metadata": {},
     "output_type": "execute_result"
    }
   ],
   "source": [
    "unique, counts = np.unique(y_test, return_counts=True)\n",
    "dict(zip(unique, counts))"
   ]
  },
  {
   "cell_type": "code",
   "execution_count": 4,
   "metadata": {
    "ExecuteTime": {
     "end_time": "2020-03-31T08:04:43.532167Z",
     "start_time": "2020-03-31T08:04:43.269296Z"
    }
   },
   "outputs": [
    {
     "name": "stdout",
     "output_type": "stream",
     "text": [
      "16673\n"
     ]
    }
   ],
   "source": [
    "t = Tokenizer()\n",
    "t.fit_on_texts(X_train)\n",
    "vocab_size = len(t.word_index) + 1\n",
    "print(vocab_size)"
   ]
  },
  {
   "cell_type": "code",
   "execution_count": 18,
   "metadata": {
    "ExecuteTime": {
     "end_time": "2020-03-30T17:14:48.993204Z",
     "start_time": "2020-03-30T17:14:48.799481Z"
    }
   },
   "outputs": [],
   "source": [
    "encoded_train = t.texts_to_sequences(X_train)\n",
    "encoded_test = t.texts_to_sequences(X_test)"
   ]
  },
  {
   "cell_type": "code",
   "execution_count": 19,
   "metadata": {
    "ExecuteTime": {
     "end_time": "2020-03-30T17:14:49.579608Z",
     "start_time": "2020-03-30T17:14:49.518536Z"
    }
   },
   "outputs": [],
   "source": [
    "max_length = 140\n",
    "padded_train = pad_sequences(encoded_train, maxlen=max_length, padding='post')\n",
    "padded_test = pad_sequences(encoded_test, maxlen=max_length, padding='post')"
   ]
  },
  {
   "cell_type": "code",
   "execution_count": 21,
   "metadata": {
    "ExecuteTime": {
     "end_time": "2020-03-30T17:14:58.930033Z",
     "start_time": "2020-03-30T17:14:58.925734Z"
    }
   },
   "outputs": [],
   "source": [
    "y_train = to_categorical(y_train, num_classes=3)\n",
    "y_test = to_categorical(y_test, num_classes=3)"
   ]
  },
  {
   "cell_type": "code",
   "execution_count": 49,
   "metadata": {
    "ExecuteTime": {
     "end_time": "2020-03-30T17:29:10.224223Z",
     "start_time": "2020-03-30T17:28:02.356925Z"
    }
   },
   "outputs": [
    {
     "name": "stdout",
     "output_type": "stream",
     "text": [
      "Loaded 1193514 word vectors.\n"
     ]
    }
   ],
   "source": [
    "# load the whole embedding into memory\n",
    "embeddings_index = dict()\n",
    "f = open('embeddings/glove.twitter.27B/glove.twitter.27B.200d.txt')\n",
    "for line in f:\n",
    "    values = line.split()\n",
    "    word = values[0]\n",
    "    coefs = asarray(values[1:], dtype='float32')\n",
    "    embeddings_index[word] = coefs\n",
    "\n",
    "f.close()\n",
    "print('Loaded %s word vectors.' % len(embeddings_index))"
   ]
  },
  {
   "cell_type": "code",
   "execution_count": 52,
   "metadata": {
    "ExecuteTime": {
     "end_time": "2020-03-30T17:29:24.783672Z",
     "start_time": "2020-03-30T17:29:24.570144Z"
    }
   },
   "outputs": [
    {
     "data": {
      "text/plain": [
       "(16673, 200)"
      ]
     },
     "execution_count": 52,
     "metadata": {},
     "output_type": "execute_result"
    }
   ],
   "source": [
    "# create a weight matrix for words in training docs\n",
    "embedding_matrix = np.zeros((vocab_size, 200))\n",
    "for word, i in t.word_index.items():\n",
    "    try:\n",
    "        embedding_vector = embeddings_index[word]\n",
    "    except:\n",
    "        embedding_vector = [0]*200\n",
    "    \n",
    "    if embedding_vector is not None:\n",
    "        embedding_matrix[i] = embedding_vector\n",
    "        \n",
    "embedding_matrix.shape"
   ]
  },
  {
   "cell_type": "code",
   "execution_count": 35,
   "metadata": {
    "ExecuteTime": {
     "end_time": "2020-03-30T17:22:33.025365Z",
     "start_time": "2020-03-30T17:22:33.018339Z"
    }
   },
   "outputs": [],
   "source": [
    "def recall_m(y_true, y_pred):\n",
    "        true_positives = K.sum(K.round(K.clip(y_true * y_pred, 0, 1)))\n",
    "        possible_positives = K.sum(K.round(K.clip(y_true, 0, 1)))\n",
    "        recall = true_positives / (possible_positives + K.epsilon())\n",
    "        return recall\n",
    "\n",
    "def precision_m(y_true, y_pred):\n",
    "        true_positives = K.sum(K.round(K.clip(y_true * y_pred, 0, 1)))\n",
    "        predicted_positives = K.sum(K.round(K.clip(y_pred, 0, 1)))\n",
    "        precision = true_positives / (predicted_positives + K.epsilon())\n",
    "        return precision\n",
    "\n",
    "def f1_m(y_true, y_pred):\n",
    "    precision = precision_m(y_true, y_pred)\n",
    "    recall = recall_m(y_true, y_pred)\n",
    "    return 2*((precision*recall)/(precision+recall+K.epsilon()))"
   ]
  },
  {
   "cell_type": "code",
   "execution_count": 57,
   "metadata": {
    "ExecuteTime": {
     "end_time": "2020-03-30T17:31:59.784274Z",
     "start_time": "2020-03-30T17:31:59.354494Z"
    }
   },
   "outputs": [
    {
     "name": "stdout",
     "output_type": "stream",
     "text": [
      "Model: \"model_4\"\n",
      "_________________________________________________________________\n",
      "Layer (type)                 Output Shape              Param #   \n",
      "=================================================================\n",
      "main_input (InputLayer)      [(None, 140)]             0         \n",
      "_________________________________________________________________\n",
      "embedding_5 (Embedding)      (None, 140, 200)          3334600   \n",
      "_________________________________________________________________\n",
      "conv1d_8 (Conv1D)            (None, 137, 50)           40050     \n",
      "_________________________________________________________________\n",
      "max_pooling1d_8 (MaxPooling1 (None, 68, 50)            0         \n",
      "_________________________________________________________________\n",
      "conv1d_9 (Conv1D)            (None, 66, 100)           15100     \n",
      "_________________________________________________________________\n",
      "max_pooling1d_9 (MaxPooling1 (None, 33, 100)           0         \n",
      "_________________________________________________________________\n",
      "flatten_4 (Flatten)          (None, 3300)              0         \n",
      "_________________________________________________________________\n",
      "fully_connected (Dense)      (None, 100)               330100    \n",
      "_________________________________________________________________\n",
      "dense_4 (Dense)              (None, 3)                 303       \n",
      "=================================================================\n",
      "Total params: 3,720,153\n",
      "Trainable params: 385,553\n",
      "Non-trainable params: 3,334,600\n",
      "_________________________________________________________________\n",
      "None\n"
     ]
    }
   ],
   "source": [
    "input_data = Input(shape=(max_length,), name='main_input')\n",
    "embedding_layer = Embedding(vocab_size, 200, weights=[embedding_matrix], trainable=False)(input_data)\n",
    "conv_1 = Conv1D(filters=50, kernel_size=4, activation='relu')(embedding_layer)\n",
    "max_1 = MaxPooling1D(pool_size=2)(conv_1)\n",
    "conv_2 = Conv1D(filters=100, kernel_size=3, activation='relu')(max_1)\n",
    "max_2 = MaxPooling1D(pool_size=2)(conv_2)\n",
    "flatten = Flatten()(max_2)\n",
    "dense = Dense(100, activation='relu', name='fully_connected')(flatten)\n",
    "out = Dense(3, activation='softmax')(dense)\n",
    "\n",
    "model_01 = Model(inputs=[input_data], outputs=[out])\n",
    "\n",
    "print(model_01.summary())"
   ]
  },
  {
   "cell_type": "code",
   "execution_count": 82,
   "metadata": {
    "ExecuteTime": {
     "end_time": "2020-03-30T17:39:24.941262Z",
     "start_time": "2020-03-30T17:39:24.842799Z"
    }
   },
   "outputs": [
    {
     "data": {
      "image/png": "[encoded data removed]",
      "text/plain": [
       "<IPython.core.display.Image object>"
      ]
     },
     "execution_count": 82,
     "metadata": {},
     "output_type": "execute_result"
    }
   ],
   "source": [
    "keras.utils.vis_utils.pydot = pyd\n",
    "plot_model(model_01, to_file='model_01.png')"
   ]
  },
  {
   "cell_type": "code",
   "execution_count": 58,
   "metadata": {
    "ExecuteTime": {
     "end_time": "2020-03-30T17:31:59.791586Z",
     "start_time": "2020-03-30T17:31:59.786917Z"
    }
   },
   "outputs": [],
   "source": [
    "reduce_lr = ReduceLROnPlateau(monitor='val_f1_m', \n",
    "                              mode = 'max', \n",
    "                              factor=0.5, \n",
    "                              patience=5, \n",
    "                              min_lr=0.0001, \n",
    "                              verbose=10)\n",
    "\n",
    "checkpoint = ModelCheckpoint(\"models/sentiment_model.h5\", \n",
    "                               monitor=\"val_f1_m\", \n",
    "                               mode=\"max\", \n",
    "                               save_best_only = True, \n",
    "                               verbose=1)\n",
    "\n",
    "earlystop = EarlyStopping(monitor = 'val_f1_m', \n",
    "                            mode=\"max\", \n",
    "                            min_delta = 0, \n",
    "                            patience = 5,\n",
    "                            verbose=1)"
   ]
  },
  {
   "cell_type": "code",
   "execution_count": 59,
   "metadata": {
    "ExecuteTime": {
     "end_time": "2020-03-30T17:33:41.877709Z",
     "start_time": "2020-03-30T17:31:59.794662Z"
    },
    "scrolled": true
   },
   "outputs": [
    {
     "name": "stdout",
     "output_type": "stream",
     "text": [
      "Train on 6197 samples, validate on 1550 samples\n",
      "Epoch 1/50\n",
      "6080/6197 [============================>.] - ETA: 0s - loss: 1.0179 - f1_m: 0.1578 - acc: 0.4734\n",
      "Epoch 00001: val_f1_m improved from -inf to 0.20992, saving model to models/sentiment_model.h5\n",
      "6197/6197 [==============================] - 5s 791us/sample - loss: 1.0162 - f1_m: 0.1595 - acc: 0.4749 - val_loss: 0.9835 - val_f1_m: 0.2099 - val_acc: 0.4961\n",
      "Epoch 2/50\n",
      "6080/6197 [============================>.] - ETA: 0s - loss: 0.9658 - f1_m: 0.3601 - acc: 0.5163\n",
      "Epoch 00002: val_f1_m improved from 0.20992 to 0.37992, saving model to models/sentiment_model.h5\n",
      "6197/6197 [==============================] - 4s 633us/sample - loss: 0.9663 - f1_m: 0.3599 - acc: 0.5156 - val_loss: 0.9500 - val_f1_m: 0.3799 - val_acc: 0.5090\n",
      "Epoch 3/50\n",
      "6144/6197 [============================>.] - ETA: 0s - loss: 0.9156 - f1_m: 0.4578 - acc: 0.5633\n",
      "Epoch 00003: val_f1_m improved from 0.37992 to 0.43588, saving model to models/sentiment_model.h5\n",
      "6197/6197 [==============================] - 4s 650us/sample - loss: 0.9164 - f1_m: 0.4579 - acc: 0.5624 - val_loss: 0.9169 - val_f1_m: 0.4359 - val_acc: 0.5452\n",
      "Epoch 4/50\n",
      "6080/6197 [============================>.] - ETA: 0s - loss: 0.8546 - f1_m: 0.5366 - acc: 0.6020\n",
      "Epoch 00004: val_f1_m improved from 0.43588 to 0.51821, saving model to models/sentiment_model.h5\n",
      "6197/6197 [==============================] - 4s 645us/sample - loss: 0.8532 - f1_m: 0.5376 - acc: 0.6032 - val_loss: 0.8743 - val_f1_m: 0.5182 - val_acc: 0.5877\n",
      "Epoch 5/50\n",
      "6080/6197 [============================>.] - ETA: 0s - loss: 0.7934 - f1_m: 0.5973 - acc: 0.6449\n",
      "Epoch 00005: val_f1_m improved from 0.51821 to 0.56355, saving model to models/sentiment_model.h5\n",
      "6197/6197 [==============================] - 4s 658us/sample - loss: 0.7954 - f1_m: 0.5963 - acc: 0.6435 - val_loss: 0.8472 - val_f1_m: 0.5635 - val_acc: 0.5942\n",
      "Epoch 6/50\n",
      "6144/6197 [============================>.] - ETA: 0s - loss: 0.7459 - f1_m: 0.6415 - acc: 0.6735\n",
      "Epoch 00006: val_f1_m improved from 0.56355 to 0.56924, saving model to models/sentiment_model.h5\n",
      "6197/6197 [==============================] - 4s 649us/sample - loss: 0.7463 - f1_m: 0.6414 - acc: 0.6734 - val_loss: 0.8363 - val_f1_m: 0.5692 - val_acc: 0.6084\n",
      "Epoch 7/50\n",
      "6080/6197 [============================>.] - ETA: 0s - loss: 0.7068 - f1_m: 0.6667 - acc: 0.6903\n",
      "Epoch 00007: val_f1_m improved from 0.56924 to 0.59699, saving model to models/sentiment_model.h5\n",
      "6197/6197 [==============================] - 4s 652us/sample - loss: 0.7059 - f1_m: 0.6675 - acc: 0.6911 - val_loss: 0.8152 - val_f1_m: 0.5970 - val_acc: 0.6252\n",
      "Epoch 8/50\n",
      "6080/6197 [============================>.] - ETA: 0s - loss: 0.6655 - f1_m: 0.6943 - acc: 0.7135\n",
      "Epoch 00008: val_f1_m improved from 0.59699 to 0.59723, saving model to models/sentiment_model.h5\n",
      "6197/6197 [==============================] - 4s 651us/sample - loss: 0.6672 - f1_m: 0.6935 - acc: 0.7123 - val_loss: 0.8131 - val_f1_m: 0.5972 - val_acc: 0.6239\n",
      "Epoch 9/50\n",
      "6080/6197 [============================>.] - ETA: 0s - loss: 0.6302 - f1_m: 0.7205 - acc: 0.7340\n",
      "Epoch 00009: val_f1_m improved from 0.59723 to 0.61671, saving model to models/sentiment_model.h5\n",
      "6197/6197 [==============================] - 4s 655us/sample - loss: 0.6300 - f1_m: 0.7210 - acc: 0.7344 - val_loss: 0.8061 - val_f1_m: 0.6167 - val_acc: 0.6394\n",
      "Epoch 10/50\n",
      "6080/6197 [============================>.] - ETA: 0s - loss: 0.5971 - f1_m: 0.7395 - acc: 0.7526\n",
      "Epoch 00010: val_f1_m improved from 0.61671 to 0.62194, saving model to models/sentiment_model.h5\n",
      "6197/6197 [==============================] - 4s 652us/sample - loss: 0.5974 - f1_m: 0.7392 - acc: 0.7528 - val_loss: 0.8105 - val_f1_m: 0.6219 - val_acc: 0.6387\n",
      "Epoch 11/50\n",
      "6080/6197 [============================>.] - ETA: 0s - loss: 0.5642 - f1_m: 0.7627 - acc: 0.7722\n",
      "Epoch 00011: val_f1_m did not improve from 0.62194\n",
      "6197/6197 [==============================] - 4s 650us/sample - loss: 0.5650 - f1_m: 0.7621 - acc: 0.7712 - val_loss: 0.8161 - val_f1_m: 0.6198 - val_acc: 0.6361\n",
      "Epoch 12/50\n",
      "6080/6197 [============================>.] - ETA: 0s - loss: 0.5280 - f1_m: 0.7839 - acc: 0.7908\n",
      "Epoch 00012: val_f1_m improved from 0.62194 to 0.62720, saving model to models/sentiment_model.h5\n",
      "6197/6197 [==============================] - 4s 658us/sample - loss: 0.5287 - f1_m: 0.7831 - acc: 0.7897 - val_loss: 0.8215 - val_f1_m: 0.6272 - val_acc: 0.6452\n",
      "Epoch 13/50\n",
      "6080/6197 [============================>.] - ETA: 0s - loss: 0.4942 - f1_m: 0.8024 - acc: 0.8100\n",
      "Epoch 00013: val_f1_m did not improve from 0.62720\n",
      "6197/6197 [==============================] - 4s 650us/sample - loss: 0.4942 - f1_m: 0.8029 - acc: 0.8102 - val_loss: 0.8339 - val_f1_m: 0.6229 - val_acc: 0.6323\n",
      "Epoch 14/50\n",
      "6080/6197 [============================>.] - ETA: 0s - loss: 0.4665 - f1_m: 0.8172 - acc: 0.8227\n",
      "Epoch 00014: val_f1_m improved from 0.62720 to 0.62861, saving model to models/sentiment_model.h5\n",
      "6197/6197 [==============================] - 4s 657us/sample - loss: 0.4677 - f1_m: 0.8170 - acc: 0.8228 - val_loss: 0.8399 - val_f1_m: 0.6286 - val_acc: 0.6426\n",
      "Epoch 15/50\n",
      "6080/6197 [============================>.] - ETA: 0s - loss: 0.4298 - f1_m: 0.8383 - acc: 0.8426\n",
      "Epoch 00015: val_f1_m improved from 0.62861 to 0.63419, saving model to models/sentiment_model.h5\n",
      "6197/6197 [==============================] - 4s 654us/sample - loss: 0.4295 - f1_m: 0.8382 - acc: 0.8427 - val_loss: 0.8583 - val_f1_m: 0.6342 - val_acc: 0.6477\n",
      "Epoch 16/50\n",
      "6080/6197 [============================>.] - ETA: 0s - loss: 0.4068 - f1_m: 0.8474 - acc: 0.8508\n",
      "Epoch 00016: val_f1_m did not improve from 0.63419\n",
      "6197/6197 [==============================] - 4s 640us/sample - loss: 0.4051 - f1_m: 0.8481 - acc: 0.8514 - val_loss: 0.8624 - val_f1_m: 0.6274 - val_acc: 0.6413\n",
      "Epoch 17/50\n",
      "6080/6197 [============================>.] - ETA: 0s - loss: 0.3693 - f1_m: 0.8682 - acc: 0.8717\n",
      "Epoch 00017: val_f1_m did not improve from 0.63419\n",
      "6197/6197 [==============================] - 4s 636us/sample - loss: 0.3696 - f1_m: 0.8683 - acc: 0.8717 - val_loss: 0.8787 - val_f1_m: 0.6256 - val_acc: 0.6323\n",
      "Epoch 18/50\n",
      "6080/6197 [============================>.] - ETA: 0s - loss: 0.3382 - f1_m: 0.8878 - acc: 0.8931\n",
      "Epoch 00018: val_f1_m did not improve from 0.63419\n",
      "6197/6197 [==============================] - 4s 637us/sample - loss: 0.3389 - f1_m: 0.8878 - acc: 0.8930 - val_loss: 0.9040 - val_f1_m: 0.6310 - val_acc: 0.6387\n",
      "Epoch 19/50\n",
      "6080/6197 [============================>.] - ETA: 0s - loss: 0.3133 - f1_m: 0.8947 - acc: 0.8965\n",
      "Epoch 00019: val_f1_m did not improve from 0.63419\n",
      "6197/6197 [==============================] - 4s 639us/sample - loss: 0.3130 - f1_m: 0.8951 - acc: 0.8967 - val_loss: 0.9135 - val_f1_m: 0.6273 - val_acc: 0.6394\n",
      "Epoch 20/50\n",
      "6080/6197 [============================>.] - ETA: 0s - loss: 0.2817 - f1_m: 0.9152 - acc: 0.9146\n",
      "Epoch 00020: val_f1_m improved from 0.63419 to 0.63980, saving model to models/sentiment_model.h5\n",
      "6197/6197 [==============================] - 4s 646us/sample - loss: 0.2816 - f1_m: 0.9151 - acc: 0.9146 - val_loss: 0.9461 - val_f1_m: 0.6398 - val_acc: 0.6387\n",
      "Epoch 21/50\n",
      "6080/6197 [============================>.] - ETA: 0s - loss: 0.2609 - f1_m: 0.9209 - acc: 0.9232\n",
      "Epoch 00021: val_f1_m did not improve from 0.63980\n",
      "6197/6197 [==============================] - 4s 644us/sample - loss: 0.2609 - f1_m: 0.9206 - acc: 0.9227 - val_loss: 0.9820 - val_f1_m: 0.6194 - val_acc: 0.6265\n",
      "Epoch 22/50\n",
      "6080/6197 [============================>.] - ETA: 0s - loss: 0.2297 - f1_m: 0.9377 - acc: 0.9396\n",
      "Epoch 00022: val_f1_m did not improve from 0.63980\n",
      "6197/6197 [==============================] - 4s 645us/sample - loss: 0.2293 - f1_m: 0.9380 - acc: 0.9400 - val_loss: 0.9941 - val_f1_m: 0.6327 - val_acc: 0.6413\n",
      "Epoch 23/50\n",
      "6144/6197 [============================>.] - ETA: 0s - loss: 0.2066 - f1_m: 0.9470 - acc: 0.9495\n",
      "Epoch 00023: val_f1_m did not improve from 0.63980\n",
      "6197/6197 [==============================] - 4s 650us/sample - loss: 0.2061 - f1_m: 0.9472 - acc: 0.9497 - val_loss: 1.0541 - val_f1_m: 0.6237 - val_acc: 0.6323\n",
      "Epoch 24/50\n",
      "6080/6197 [============================>.] - ETA: 0s - loss: 0.1864 - f1_m: 0.9543 - acc: 0.9536\n",
      "Epoch 00024: val_f1_m did not improve from 0.63980\n",
      "6197/6197 [==============================] - 4s 645us/sample - loss: 0.1870 - f1_m: 0.9543 - acc: 0.9537 - val_loss: 1.0428 - val_f1_m: 0.6198 - val_acc: 0.6335\n"
     ]
    },
    {
     "name": "stdout",
     "output_type": "stream",
     "text": [
      "Epoch 25/50\n",
      "6144/6197 [============================>.] - ETA: 0s - loss: 0.1651 - f1_m: 0.9663 - acc: 0.9674\n",
      "Epoch 00025: val_f1_m did not improve from 0.63980\n",
      "6197/6197 [==============================] - 4s 631us/sample - loss: 0.1652 - f1_m: 0.9661 - acc: 0.9672 - val_loss: 1.0808 - val_f1_m: 0.6289 - val_acc: 0.6355\n",
      "Epoch 00025: early stopping\n"
     ]
    }
   ],
   "source": [
    "c = optimizers.Adam(lr = 0.0001)\n",
    "model_01.compile(optimizer=c, loss='categorical_crossentropy', metrics=[f1_m, 'acc'])\n",
    "\n",
    "h1 = model_01.fit(padded_train, y_train, \n",
    "               batch_size=64, \n",
    "               epochs=50, \n",
    "               verbose=1, callbacks=[checkpoint, earlystop, reduce_lr], \n",
    "               validation_split=0.2)"
   ]
  },
  {
   "cell_type": "code",
   "execution_count": 60,
   "metadata": {
    "ExecuteTime": {
     "end_time": "2020-03-30T17:33:45.205931Z",
     "start_time": "2020-03-30T17:33:44.891032Z"
    }
   },
   "outputs": [
    {
     "name": "stdout",
     "output_type": "stream",
     "text": [
      "1937/1937 [==============================] - 0s 158us/sample - loss: 1.0576 - f1_m: 0.6205 - acc: 0.6288\n"
     ]
    },
    {
     "data": {
      "text/plain": [
       "[1.0576424007570862, 0.62049514, 0.6288074]"
      ]
     },
     "execution_count": 60,
     "metadata": {},
     "output_type": "execute_result"
    }
   ],
   "source": [
    "score_1 = model_01.evaluate(padded_test, y_test)\n",
    "score_1"
   ]
  },
  {
   "cell_type": "code",
   "execution_count": 66,
   "metadata": {
    "ExecuteTime": {
     "end_time": "2020-03-30T17:34:49.621816Z",
     "start_time": "2020-03-30T17:34:49.137383Z"
    }
   },
   "outputs": [
    {
     "name": "stdout",
     "output_type": "stream",
     "text": [
      "[[ 99  76 117]\n",
      " [ 32 496 193]\n",
      " [ 55 246 623]]\n"
     ]
    },
    {
     "data": {
      "text/plain": [
       "<matplotlib.axes._subplots.AxesSubplot at 0x15af2b4e0>"
      ]
     },
     "execution_count": 66,
     "metadata": {},
     "output_type": "execute_result"
    },
    {
     "data": {
      "image/png": "[encoded data removed]",
      "text/plain": [
       "<Figure size 432x288 with 2 Axes>"
      ]
     },
     "metadata": {
      "needs_background": "light"
     },
     "output_type": "display_data"
    }
   ],
   "source": [
    "cnf_mat = confusion_matrix(np.argmax(y_test, axis=1), np.argmax(model_01.predict(padded_test), axis=1))\n",
    "\n",
    "print(cnf_mat)\n",
    "sns.heatmap(cnf_mat, annot=True, fmt='g', linewidths=.5, xticklabels=['Predicted 0', 'Predicted 1', 'Predicted 2'], \n",
    "            yticklabels=['Actual 0', 'Actual 1', 'Actual 2'])"
   ]
  },
  {
   "cell_type": "code",
   "execution_count": 72,
   "metadata": {
    "ExecuteTime": {
     "end_time": "2020-03-30T17:36:56.881420Z",
     "start_time": "2020-03-30T17:36:56.653918Z"
    }
   },
   "outputs": [
    {
     "data": {
      "image/png": "[encoded data removed]",
      "text/plain": [
       "<Figure size 432x288 with 1 Axes>"
      ]
     },
     "metadata": {
      "needs_background": "light"
     },
     "output_type": "display_data"
    }
   ],
   "source": [
    "plt.plot(h1.history['f1_m'][1:])\n",
    "plt.plot(h1.history['val_f1_m'][1:])\n",
    "plt.title('Model metric')\n",
    "plt.ylabel('F1 metric')\n",
    "plt.xlabel('Epochs')\n",
    "plt.legend(['train','Validation'], loc='upper left')\n",
    "plt.show()"
   ]
  },
  {
   "cell_type": "code",
   "execution_count": 73,
   "metadata": {
    "ExecuteTime": {
     "end_time": "2020-03-30T17:36:57.678999Z",
     "start_time": "2020-03-30T17:36:57.472746Z"
    }
   },
   "outputs": [
    {
     "data": {
      "image/png": "[encoded data removed]",
      "text/plain": [
       "<Figure size 432x288 with 1 Axes>"
      ]
     },
     "metadata": {
      "needs_background": "light"
     },
     "output_type": "display_data"
    }
   ],
   "source": [
    "plt.plot(h1.history['loss'][1:])\n",
    "plt.plot(h1.history['val_loss'][1:])\n",
    "plt.title('Model Loss')\n",
    "plt.ylabel('Loss')\n",
    "plt.xlabel('Epochs')\n",
    "plt.legend(['train','Validation'], loc='upper left')\n",
    "plt.show()"
   ]
  },
  {
   "cell_type": "code",
   "execution_count": null,
   "metadata": {},
   "outputs": [],
   "source": []
  }
 ],
 "metadata": {
  "kernelspec": {
   "display_name": "Python 3",
   "language": "python",
   "name": "python3"
  },
  "language_info": {
   "codemirror_mode": {
    "name": "ipython",
    "version": 3
   },
   "file_extension": ".py",
   "mimetype": "text/x-python",
   "name": "python",
   "nbconvert_exporter": "python",
   "pygments_lexer": "ipython3",
   "version": "3.6.7"
  },
  "toc": {
   "base_numbering": 1,
   "nav_menu": {},
   "number_sections": true,
   "sideBar": true,
   "skip_h1_title": false,
   "title_cell": "Table of Contents",
   "title_sidebar": "Contents",
   "toc_cell": false,
   "toc_position": {},
   "toc_section_display": true,
   "toc_window_display": false
  }
 },
 "nbformat": 4,
 "nbformat_minor": 2
}
